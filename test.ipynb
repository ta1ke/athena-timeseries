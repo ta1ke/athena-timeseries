{
 "cells": [
  {
   "cell_type": "code",
   "execution_count": 5,
   "metadata": {},
   "outputs": [
    {
     "data": {
      "text/plain": [
       "datetime.datetime(2024, 1, 1, 0, 0)"
      ]
     },
     "execution_count": 5,
     "metadata": {},
     "output_type": "execute_result"
    }
   ],
   "source": []
  },
  {
   "cell_type": "code",
   "execution_count": 6,
   "metadata": {},
   "outputs": [],
   "source": [
    "# 例えば、1時間ごとのOHLCVデータを取得するには、次のようにします\n",
    "resampled_1h_ohlc = tsdb.resample_query(\n",
    "    table_name='OHLCV',\n",
    "    field='close',\n",
    "    start_dt='2022-01-01 00:00:00', # yyyy-mm-dd HH:MM:SS, inclusive\n",
    "    end_dt='2022-01-31 23:59:59', # yyyy-mm-dd HH:MM:SS, inclusive    symbols=['BTCUSDT'],\n",
    "    interval='1hour', # month | week | day | hour | {1,2,3,4,6,8,12}hour | minute | {5,15,30}minute\n",
    "    op='last', # last | first | min | max | sum\n",
    ")\n"
   ]
  },
  {
   "cell_type": "code",
   "execution_count": 7,
   "metadata": {},
   "outputs": [
    {
     "data": {
      "text/html": [
       "<div>\n",
       "<style scoped>\n",
       "    .dataframe tbody tr th:only-of-type {\n",
       "        vertical-align: middle;\n",
       "    }\n",
       "\n",
       "    .dataframe tbody tr th {\n",
       "        vertical-align: top;\n",
       "    }\n",
       "\n",
       "    .dataframe thead th {\n",
       "        text-align: right;\n",
       "    }\n",
       "</style>\n",
       "<table border=\"1\" class=\"dataframe\">\n",
       "  <thead>\n",
       "    <tr style=\"text-align: right;\">\n",
       "      <th>symbol</th>\n",
       "      <th>BTCUSDT</th>\n",
       "      <th>ETHUSDT</th>\n",
       "      <th>XRPUSDT</th>\n",
       "    </tr>\n",
       "    <tr>\n",
       "      <th>dt</th>\n",
       "      <th></th>\n",
       "      <th></th>\n",
       "      <th></th>\n",
       "    </tr>\n",
       "  </thead>\n",
       "  <tbody>\n",
       "    <tr>\n",
       "      <th>2022-01-01 00:00:00</th>\n",
       "      <td>46656.13</td>\n",
       "      <td>3723.04</td>\n",
       "      <td>0.8395</td>\n",
       "    </tr>\n",
       "    <tr>\n",
       "      <th>2022-01-01 01:00:00</th>\n",
       "      <td>46778.14</td>\n",
       "      <td>3724.89</td>\n",
       "      <td>0.8396</td>\n",
       "    </tr>\n",
       "    <tr>\n",
       "      <th>2022-01-01 02:00:00</th>\n",
       "      <td>46811.77</td>\n",
       "      <td>3728.32</td>\n",
       "      <td>0.8425</td>\n",
       "    </tr>\n",
       "    <tr>\n",
       "      <th>2022-01-01 03:00:00</th>\n",
       "      <td>46813.20</td>\n",
       "      <td>3723.96</td>\n",
       "      <td>0.8410</td>\n",
       "    </tr>\n",
       "    <tr>\n",
       "      <th>2022-01-01 04:00:00</th>\n",
       "      <td>46711.05</td>\n",
       "      <td>3708.21</td>\n",
       "      <td>0.8346</td>\n",
       "    </tr>\n",
       "    <tr>\n",
       "      <th>...</th>\n",
       "      <td>...</td>\n",
       "      <td>...</td>\n",
       "      <td>...</td>\n",
       "    </tr>\n",
       "    <tr>\n",
       "      <th>2022-01-31 19:00:00</th>\n",
       "      <td>38415.79</td>\n",
       "      <td>2672.72</td>\n",
       "      <td>0.6070</td>\n",
       "    </tr>\n",
       "    <tr>\n",
       "      <th>2022-01-31 20:00:00</th>\n",
       "      <td>38450.62</td>\n",
       "      <td>2683.97</td>\n",
       "      <td>0.6094</td>\n",
       "    </tr>\n",
       "    <tr>\n",
       "      <th>2022-01-31 21:00:00</th>\n",
       "      <td>38410.09</td>\n",
       "      <td>2679.63</td>\n",
       "      <td>0.6084</td>\n",
       "    </tr>\n",
       "    <tr>\n",
       "      <th>2022-01-31 22:00:00</th>\n",
       "      <td>38412.46</td>\n",
       "      <td>2680.00</td>\n",
       "      <td>0.6088</td>\n",
       "    </tr>\n",
       "    <tr>\n",
       "      <th>2022-01-31 23:00:00</th>\n",
       "      <td>38466.90</td>\n",
       "      <td>2686.94</td>\n",
       "      <td>0.6174</td>\n",
       "    </tr>\n",
       "  </tbody>\n",
       "</table>\n",
       "<p>744 rows × 3 columns</p>\n",
       "</div>"
      ],
      "text/plain": [
       "symbol                BTCUSDT  ETHUSDT  XRPUSDT\n",
       "dt                                             \n",
       "2022-01-01 00:00:00  46656.13  3723.04   0.8395\n",
       "2022-01-01 01:00:00  46778.14  3724.89   0.8396\n",
       "2022-01-01 02:00:00  46811.77  3728.32   0.8425\n",
       "2022-01-01 03:00:00  46813.20  3723.96   0.8410\n",
       "2022-01-01 04:00:00  46711.05  3708.21   0.8346\n",
       "...                       ...      ...      ...\n",
       "2022-01-31 19:00:00  38415.79  2672.72   0.6070\n",
       "2022-01-31 20:00:00  38450.62  2683.97   0.6094\n",
       "2022-01-31 21:00:00  38410.09  2679.63   0.6084\n",
       "2022-01-31 22:00:00  38412.46  2680.00   0.6088\n",
       "2022-01-31 23:00:00  38466.90  2686.94   0.6174\n",
       "\n",
       "[744 rows x 3 columns]"
      ]
     },
     "execution_count": 7,
     "metadata": {},
     "output_type": "execute_result"
    }
   ],
   "source": [
    "resampled_1h_ohlc"
   ]
  }
 ],
 "metadata": {
  "kernelspec": {
   "display_name": "myvenv",
   "language": "python",
   "name": "python3"
  },
  "language_info": {
   "codemirror_mode": {
    "name": "ipython",
    "version": 3
   },
   "file_extension": ".py",
   "mimetype": "text/x-python",
   "name": "python",
   "nbconvert_exporter": "python",
   "pygments_lexer": "ipython3",
   "version": "3.11.6"
  }
 },
 "nbformat": 4,
 "nbformat_minor": 2
}
